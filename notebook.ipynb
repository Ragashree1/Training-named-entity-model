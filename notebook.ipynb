{
  "nbformat": 4,
  "nbformat_minor": 0,
  "metadata": {
    "colab": {
      "provenance": []
    },
    "kernelspec": {
      "name": "python3",
      "display_name": "Python 3"
    },
    "language_info": {
      "name": "python"
    }
  },
  "cells": [
    {
      "cell_type": "code",
      "source": [
        "!python -m spacy download en_core_web_lg\n",
        "# spacy.load('en_core_web_lg')"
      ],
      "metadata": {
        "id": "qBEvpFzk8lBh"
      },
      "execution_count": null,
      "outputs": []
    },
    {
      "cell_type": "code",
      "source": [
        "!pip install 'spacy[transformers]'"
      ],
      "metadata": {
        "id": "Vr07pSCH9mnW"
      },
      "execution_count": null,
      "outputs": []
    },
    {
      "cell_type": "code",
      "execution_count": 58,
      "metadata": {
        "colab": {
          "base_uri": "https://localhost:8080/"
        },
        "id": "aT84iFHuqWnp",
        "outputId": "0fe5d4b1-40a6-4c5c-bcbd-6d0663a7931b"
      },
      "outputs": [
        {
          "output_type": "stream",
          "name": "stdout",
          "text": [
            "                                                     Text  \\\n",
            "0                  2 start restaurants with inside dining   \n",
            "1                                                      34   \n",
            "2                            5 star resturants in my town   \n",
            "3               98 hong kong restaurant reasonable prices   \n",
            "4  a great lunch spot but open till 2 a m passims kitchen   \n",
            "\n",
            "                                                                                                                                                                                                                                                                                                                                                                                                                                                                                                                                                                                                                                                                                                                                                                                Annotations  \n",
            "0                                                                                                                                                                                                                                                                                                                                                                                      [{'start': 0, 'end': 1, 'tag_name': 'B_RATING', 'text': '2'}, {'start': 2, 'end': 7, 'tag_name': 'I_RATING', 'text': 'start'}, {'start': 8, 'end': 19, 'tag_name': 'O', 'text': 'restaurants'}, {'start': 20, 'end': 24, 'tag_name': 'O', 'text': 'with'}, {'start': 25, 'end': 31, 'tag_name': 'B_AMENITY', 'text': 'inside'}, {'start': 32, 'end': 38, 'tag_name': 'I_AMENITY', 'text': 'dining'}]  \n",
            "1                                                                                                                                                                                                                                                                                                                                                                                                                                                                                                                                                                                                                                                                                                                                   [{'start': 0, 'end': 2, 'tag_name': 'O', 'text': '34'}]  \n",
            "2                                                                                                                                                                                                                                                                                                                                                                                     [{'start': 0, 'end': 1, 'tag_name': 'B_RATING', 'text': '5'}, {'start': 2, 'end': 6, 'tag_name': 'I_RATING', 'text': 'star'}, {'start': 7, 'end': 17, 'tag_name': 'O', 'text': 'resturants'}, {'start': 18, 'end': 20, 'tag_name': 'B_LOCATION', 'text': 'in'}, {'start': 21, 'end': 23, 'tag_name': 'I_LOCATION', 'text': 'my'}, {'start': 24, 'end': 28, 'tag_name': 'I_LOCATION', 'text': 'town'}]  \n",
            "3                                                                                                                                                                                                                                                                                                                                                                           [{'start': 0, 'end': 2, 'tag_name': 'O', 'text': '98'}, {'start': 3, 'end': 7, 'tag_name': 'B_RESTAURANT_NAME', 'text': 'hong'}, {'start': 8, 'end': 12, 'tag_name': 'I_RESTAURANT_NAME', 'text': 'kong'}, {'start': 13, 'end': 23, 'tag_name': 'O', 'text': 'restaurant'}, {'start': 24, 'end': 34, 'tag_name': 'B_PRICE', 'text': 'reasonable'}, {'start': 35, 'end': 41, 'tag_name': 'O', 'text': 'prices'}]  \n",
            "4  [{'start': 0, 'end': 1, 'tag_name': 'O', 'text': 'a'}, {'start': 2, 'end': 7, 'tag_name': 'O', 'text': 'great'}, {'start': 8, 'end': 13, 'tag_name': 'O', 'text': 'lunch'}, {'start': 14, 'end': 18, 'tag_name': 'O', 'text': 'spot'}, {'start': 19, 'end': 22, 'tag_name': 'O', 'text': 'but'}, {'start': 23, 'end': 27, 'tag_name': 'B_HOURS', 'text': 'open'}, {'start': 28, 'end': 32, 'tag_name': 'I_HOURS', 'text': 'till'}, {'start': 33, 'end': 34, 'tag_name': 'I_HOURS', 'text': '2'}, {'start': 35, 'end': 36, 'tag_name': 'I_HOURS', 'text': 'a'}, {'start': 37, 'end': 38, 'tag_name': 'I_HOURS', 'text': 'm'}, {'start': 39, 'end': 46, 'tag_name': 'B_RESTAURANT_NAME', 'text': 'passims'}, {'start': 47, 'end': 54, 'tag_name': 'I_RESTAURANT_NAME', 'text': 'kitchen'}]  \n"
          ]
        }
      ],
      "source": [
        "import pandas as pd\n",
        "import requests\n",
        "\n",
        "# URL of the data file\n",
        "url = \"https://groups.csail.mit.edu/sls/downloads/restaurant/restauranttrain.bio\"\n",
        "\n",
        "# Send a GET request to the URL to retrieve the data\n",
        "response = requests.get(url)\n",
        "\n",
        "# Check if the request was successful\n",
        "if response.status_code == 200:\n",
        "    # Define an empty list to store the parsed data\n",
        "    data = []\n",
        "\n",
        "    # Read the provided data line by line\n",
        "    lines = response.text.split('\\n')\n",
        "    text = \"\"\n",
        "    entity = \"\"\n",
        "    current_sentence = []\n",
        "    current_entities = []\n",
        "    for line in lines:\n",
        "        line = line.strip()\n",
        "        # If the line is empty, it indicates the end of a sentence\n",
        "        if not line:\n",
        "            # change this a bit\n",
        "\n",
        "            # Append the current sentence to the data list\n",
        "            data.append([text, current_entities])\n",
        "            # Reset the current_sentence list\n",
        "            text = \"\"\n",
        "            current_entities = []\n",
        "        else:\n",
        "            # Split the line into tokens and their corresponding entity labels\n",
        "            tokens = line.split()\n",
        "            # print('tokens', tokens)\n",
        "            start = 0\n",
        "            if len(text) == 0:\n",
        "              start = 0\n",
        "            else:\n",
        "              text += \" \"\n",
        "              start = len(text)\n",
        "            text += tokens[1]\n",
        "            end = len(text) - 1\n",
        "            current_entities.append({\"start\":start, \"end\":end + 1, \"tag_name\":tokens[0].replace(\"-\", \"_\").upper(), \"text\": tokens[1]})\n",
        "            # Append the tokens to the current_sentence list\n",
        "            # current_sentence.append(tokens)\n",
        "\n",
        "    # Convert the parsed data into a DataFrame\n",
        "    df = pd.DataFrame(data, columns=['Text', 'Annotations'])\n",
        "\n",
        "    # Display the DataFrame\n",
        "    print(df.head())  # Print the first few rows of the DataFrame\n",
        "else:\n",
        "    print(\"Failed to retrieve data from the URL.\")\n"
      ]
    },
    {
      "cell_type": "code",
      "source": [
        "pd.set_option('display.max_colwidth', None)\n",
        "\n",
        "print(df.iloc[0])"
      ],
      "metadata": {
        "colab": {
          "base_uri": "https://localhost:8080/"
        },
        "id": "kdUr0dHyqa25",
        "outputId": "759ab698-bbe8-4e4d-beeb-60e7a9ca5ab9"
      },
      "execution_count": 47,
      "outputs": [
        {
          "output_type": "stream",
          "name": "stdout",
          "text": [
            "Text                                                                                                                                                                                                                                                                                                                                                                         2 start restaurants with inside dining\n",
            "Annotations    [{'start': 0, 'end': 0, 'tag_name': 'B_RATING', 'text': '2'}, {'start': 2, 'end': 6, 'tag_name': 'I_RATING', 'text': 'start'}, {'start': 8, 'end': 18, 'tag_name': 'O', 'text': 'restaurants'}, {'start': 20, 'end': 23, 'tag_name': 'O', 'text': 'with'}, {'start': 25, 'end': 30, 'tag_name': 'B_AMENITY', 'text': 'inside'}, {'start': 32, 'end': 37, 'tag_name': 'I_AMENITY', 'text': 'dining'}]\n",
            "Name: 0, dtype: object\n"
          ]
        }
      ]
    },
    {
      "cell_type": "code",
      "source": [
        "df.iloc[2]"
      ],
      "metadata": {
        "colab": {
          "base_uri": "https://localhost:8080/"
        },
        "id": "IzPgaPOiqbDM",
        "outputId": "95c6db2e-11b7-423f-b30d-ae26481384a9"
      },
      "execution_count": 48,
      "outputs": [
        {
          "output_type": "execute_result",
          "data": {
            "text/plain": [
              "Text                                                                                                                                                                                                                                                                                                                                                                                    5 star resturants in my town\n",
              "Annotations    [{'start': 0, 'end': 0, 'tag_name': 'B_RATING', 'text': '5'}, {'start': 2, 'end': 5, 'tag_name': 'I_RATING', 'text': 'star'}, {'start': 7, 'end': 16, 'tag_name': 'O', 'text': 'resturants'}, {'start': 18, 'end': 19, 'tag_name': 'B_LOCATION', 'text': 'in'}, {'start': 21, 'end': 22, 'tag_name': 'I_LOCATION', 'text': 'my'}, {'start': 24, 'end': 27, 'tag_name': 'I_LOCATION', 'text': 'town'}]\n",
              "Name: 2, dtype: object"
            ]
          },
          "metadata": {},
          "execution_count": 48
        }
      ]
    },
    {
      "cell_type": "code",
      "source": [
        "train_dataset = []\n",
        "\n",
        "for entry in data:\n",
        "  if len(entry[1]) > 0:\n",
        "    current_entry = {}\n",
        "    current_entry['text'] = entry[0]\n",
        "    current_entry['entities'] = []\n",
        "    for entity in entry[1]:\n",
        "      start_index = entity['start']\n",
        "      end_index = entity['end']\n",
        "      label = entity['tag_name']\n",
        "      current_entry['entities'].append((start_index, end_index, label))\n",
        "    train_dataset.append(current_entry)"
      ],
      "metadata": {
        "id": "ZwDcuU_mz3Ah"
      },
      "execution_count": 59,
      "outputs": []
    },
    {
      "cell_type": "code",
      "source": [
        "train_dataset"
      ],
      "metadata": {
        "id": "MmNHxMLJkH1u"
      },
      "execution_count": null,
      "outputs": []
    },
    {
      "cell_type": "code",
      "source": [
        "import spacy\n",
        "from spacy.tokens import DocBin\n",
        "from tqdm import tqdm\n",
        "\n",
        "\n",
        "nlp = spacy.blank(\"en\")\n",
        "doc_bin = DocBin()\n"
      ],
      "metadata": {
        "id": "RBAxI8SktUqg"
      },
      "execution_count": 53,
      "outputs": []
    },
    {
      "cell_type": "code",
      "source": [
        "import spacy\n",
        "from spacy.tokens import DocBin\n",
        "from tqdm import tqdm\n",
        "from spacy.util import filter_spans\n",
        "\n",
        "nlp = spacy.blank(\"en\")\n",
        "doc_bin = DocBin()\n",
        "\n",
        "for data in tqdm(train_dataset):\n",
        "  sentence = data['text']\n",
        "  # print(sentence)\n",
        "  tags = data['entities']\n",
        "  # print(tags)\n",
        "  # break\n",
        "  doc = nlp.make_doc(sentence)\n",
        "  ents = []\n",
        "  for start_index, end_index, tag in tags:\n",
        "    # print(start_index, end_index, tag)\n",
        "    span = doc.char_span(start_index, end_index, label=tag, alignment_mode='contract')\n",
        "    if span is None:\n",
        "      continue\n",
        "    else:\n",
        "      ents.append(span)\n",
        "  filtered_entries = filter_spans(ents)\n",
        "  doc.ents = ents\n",
        "  # print(doc.ents)\n",
        "  doc_bin.add(doc)\n",
        "print(doc_bin)\n",
        "\n",
        "doc_bin.to_disk('train.spacy')"
      ],
      "metadata": {
        "colab": {
          "base_uri": "https://localhost:8080/"
        },
        "id": "_wDnBbSm0qlO",
        "outputId": "420092ba-dfa5-41d2-8e36-65fe0a97b777"
      },
      "execution_count": 61,
      "outputs": [
        {
          "output_type": "stream",
          "name": "stderr",
          "text": [
            "100%|██████████| 7660/7660 [00:01<00:00, 4217.40it/s]\n"
          ]
        },
        {
          "output_type": "stream",
          "name": "stdout",
          "text": [
            "<spacy.tokens._serialize.DocBin object at 0x7c7299541b70>\n"
          ]
        }
      ]
    },
    {
      "cell_type": "code",
      "source": [
        "print(doc_bin)"
      ],
      "metadata": {
        "colab": {
          "base_uri": "https://localhost:8080/"
        },
        "id": "1KHUIUIYo9n0",
        "outputId": "0e04e378-daaa-473a-ab02-7f7669be345a"
      },
      "execution_count": 37,
      "outputs": [
        {
          "output_type": "stream",
          "name": "stdout",
          "text": [
            "<spacy.tokens._serialize.DocBin object at 0x7c72fe85b7c0>\n"
          ]
        }
      ]
    },
    {
      "cell_type": "code",
      "source": [
        "# create a config file using spacy.io/usage/training#quickstart"
      ],
      "metadata": {
        "id": "vDACHOoO5bJl"
      },
      "execution_count": null,
      "outputs": []
    },
    {
      "cell_type": "code",
      "source": [
        "!python -m spacy init fill-config base_config.cfg config.cfg"
      ],
      "metadata": {
        "colab": {
          "base_uri": "https://localhost:8080/"
        },
        "id": "4-FZwdE653rd",
        "outputId": "71a87bf2-9cb7-4269-ba78-2a2851afb46a"
      },
      "execution_count": 65,
      "outputs": [
        {
          "output_type": "stream",
          "name": "stdout",
          "text": [
            "\u001b[38;5;2m✔ Auto-filled config with all values\u001b[0m\n",
            "\u001b[38;5;2m✔ Saved config\u001b[0m\n",
            "config.cfg\n",
            "You can now add your data and train your pipeline:\n",
            "python -m spacy train config.cfg --paths.train ./train.spacy --paths.dev ./dev.spacy\n"
          ]
        }
      ]
    },
    {
      "cell_type": "code",
      "source": [
        "!python -m spacy train config.cfg --output ./ --paths.train ./train.spacy --paths.dev ./train.spacy"
      ],
      "metadata": {
        "colab": {
          "base_uri": "https://localhost:8080/"
        },
        "id": "3cP586vs9xtx",
        "outputId": "13e262a8-9c74-4ad3-f6ed-af0b3a0d0a54"
      },
      "execution_count": 66,
      "outputs": [
        {
          "output_type": "stream",
          "name": "stdout",
          "text": [
            "\u001b[38;5;4mℹ Saving to output directory: .\u001b[0m\n",
            "\u001b[38;5;4mℹ Using CPU\u001b[0m\n",
            "\u001b[1m\n",
            "=========================== Initializing pipeline ===========================\u001b[0m\n",
            "\u001b[38;5;2m✔ Initialized pipeline\u001b[0m\n",
            "\u001b[1m\n",
            "============================= Training pipeline =============================\u001b[0m\n",
            "\u001b[38;5;4mℹ Pipeline: ['tok2vec', 'ner']\u001b[0m\n",
            "\u001b[38;5;4mℹ Initial learn rate: 0.001\u001b[0m\n",
            "E    #       LOSS TOK2VEC  LOSS NER  ENTS_F  ENTS_P  ENTS_R  SCORE \n",
            "---  ------  ------------  --------  ------  ------  ------  ------\n",
            "  0       0          0.00     90.69   60.49   60.18   60.81    0.60\n",
            "  0     200         73.56   6510.93   87.53   87.53   87.53    0.88\n",
            "  0     400        102.71   5044.54   89.64   89.67   89.61    0.90\n",
            "  1     600        109.27   5375.84   91.61   91.61   91.62    0.92\n",
            "  1     800        132.08   5743.17   92.41   92.42   92.41    0.92\n",
            "  2    1000        151.96   6326.63   93.36   93.35   93.36    0.93\n",
            "  3    1200        182.97   6696.61   94.57   94.57   94.57    0.95\n",
            "  4    1400        285.36   7169.89   95.34   95.34   95.35    0.95\n",
            "  5    1600        293.85   7406.62   96.38   96.37   96.38    0.96\n",
            "  6    1800        359.40   7417.38   97.07   97.07   97.07    0.97\n",
            "  8    2000        471.99   7239.94   97.96   97.96   97.97    0.98\n",
            "\u001b[38;5;2m✔ Saved pipeline to output directory\u001b[0m\n",
            "model-last\n"
          ]
        }
      ]
    },
    {
      "cell_type": "code",
      "source": [
        "spacy_model = spacy.load(\"model-best\")"
      ],
      "metadata": {
        "id": "juo-0DcAhlcN"
      },
      "execution_count": 69,
      "outputs": []
    },
    {
      "cell_type": "code",
      "source": [
        "spacy_model"
      ],
      "metadata": {
        "colab": {
          "base_uri": "https://localhost:8080/"
        },
        "id": "45d1qkWelOgw",
        "outputId": "33302eb1-b3f8-45a5-b2b0-ef3176625051"
      },
      "execution_count": 30,
      "outputs": [
        {
          "output_type": "execute_result",
          "data": {
            "text/plain": [
              "<spacy.lang.en.English at 0x7c72fe5fe0e0>"
            ]
          },
          "metadata": {},
          "execution_count": 30
        }
      ]
    },
    {
      "cell_type": "code",
      "source": [],
      "metadata": {
        "id": "8XAPvgq9lSND"
      },
      "execution_count": 67,
      "outputs": []
    },
    {
      "cell_type": "code",
      "source": [
        "doc = spacy_model('3 star resturants in my country')"
      ],
      "metadata": {
        "id": "-4agr3YliJ2C"
      },
      "execution_count": 80,
      "outputs": []
    },
    {
      "cell_type": "code",
      "source": [
        "doc.ents"
      ],
      "metadata": {
        "colab": {
          "base_uri": "https://localhost:8080/"
        },
        "id": "v0wBvX8-i3Mc",
        "outputId": "1b6bc6f3-ab3b-426a-a67e-12c7f7194faa"
      },
      "execution_count": 82,
      "outputs": [
        {
          "output_type": "execute_result",
          "data": {
            "text/plain": [
              "(3, star, resturants, in, my, country)"
            ]
          },
          "metadata": {},
          "execution_count": 82
        }
      ]
    },
    {
      "cell_type": "code",
      "source": [
        "spacy.displacy.render(doc, style=\"ent\", jupyter=True)"
      ],
      "metadata": {
        "colab": {
          "base_uri": "https://localhost:8080/",
          "height": 52
        },
        "id": "b5F4L96tiWnm",
        "outputId": "1b0bf0c6-b53f-4e1b-a60a-f4275a2a6e28"
      },
      "execution_count": 81,
      "outputs": [
        {
          "output_type": "display_data",
          "data": {
            "text/plain": [
              "<IPython.core.display.HTML object>"
            ],
            "text/html": [
              "<span class=\"tex2jax_ignore\"><div class=\"entities\" style=\"line-height: 2.5; direction: ltr\">\n",
              "<mark class=\"entity\" style=\"background: #ddd; padding: 0.45em 0.6em; margin: 0 0.25em; line-height: 1; border-radius: 0.35em;\">\n",
              "    3\n",
              "    <span style=\"font-size: 0.8em; font-weight: bold; line-height: 1; border-radius: 0.35em; vertical-align: middle; margin-left: 0.5rem\">B_RATING</span>\n",
              "</mark>\n",
              " \n",
              "<mark class=\"entity\" style=\"background: #ddd; padding: 0.45em 0.6em; margin: 0 0.25em; line-height: 1; border-radius: 0.35em;\">\n",
              "    star\n",
              "    <span style=\"font-size: 0.8em; font-weight: bold; line-height: 1; border-radius: 0.35em; vertical-align: middle; margin-left: 0.5rem\">I_RATING</span>\n",
              "</mark>\n",
              " \n",
              "<mark class=\"entity\" style=\"background: #ddd; padding: 0.45em 0.6em; margin: 0 0.25em; line-height: 1; border-radius: 0.35em;\">\n",
              "    resturants\n",
              "    <span style=\"font-size: 0.8em; font-weight: bold; line-height: 1; border-radius: 0.35em; vertical-align: middle; margin-left: 0.5rem\">O</span>\n",
              "</mark>\n",
              " \n",
              "<mark class=\"entity\" style=\"background: #ddd; padding: 0.45em 0.6em; margin: 0 0.25em; line-height: 1; border-radius: 0.35em;\">\n",
              "    in\n",
              "    <span style=\"font-size: 0.8em; font-weight: bold; line-height: 1; border-radius: 0.35em; vertical-align: middle; margin-left: 0.5rem\">O</span>\n",
              "</mark>\n",
              " \n",
              "<mark class=\"entity\" style=\"background: #ddd; padding: 0.45em 0.6em; margin: 0 0.25em; line-height: 1; border-radius: 0.35em;\">\n",
              "    my\n",
              "    <span style=\"font-size: 0.8em; font-weight: bold; line-height: 1; border-radius: 0.35em; vertical-align: middle; margin-left: 0.5rem\">B_LOCATION</span>\n",
              "</mark>\n",
              " \n",
              "<mark class=\"entity\" style=\"background: #ddd; padding: 0.45em 0.6em; margin: 0 0.25em; line-height: 1; border-radius: 0.35em;\">\n",
              "    country\n",
              "    <span style=\"font-size: 0.8em; font-weight: bold; line-height: 1; border-radius: 0.35em; vertical-align: middle; margin-left: 0.5rem\">I_LOCATION</span>\n",
              "</mark>\n",
              "</div></span>"
            ]
          },
          "metadata": {}
        }
      ]
    }
  ]
}